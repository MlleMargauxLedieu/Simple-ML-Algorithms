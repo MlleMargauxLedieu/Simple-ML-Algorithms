{
 "cells": [
  {
   "cell_type": "markdown",
   "metadata": {},
   "source": [
    "# Lab1 "
   ]
  },
  {
   "cell_type": "markdown",
   "metadata": {},
   "source": [
    "TODO : Intro"
   ]
  },
  {
   "cell_type": "markdown",
   "metadata": {},
   "source": [
    "## Step1 :  read the text file"
   ]
  },
  {
   "cell_type": "code",
   "execution_count": 22,
   "metadata": {},
   "outputs": [],
   "source": [
    "#import nltk #Download word data uncomment and launch if you don't have the word data on your computer\n",
    "#nltk.download()"
   ]
  },
  {
   "cell_type": "code",
   "execution_count": 4,
   "metadata": {},
   "outputs": [
    {
     "name": "stdout",
     "output_type": "stream",
     "text": [
      "236736\n",
      "['A', 'a', 'aa', 'aal', 'aalii', 'aam', 'Aani', 'aardvark', 'aardwolf', 'Aaron', 'Aaronic', 'Aaronical', 'Aaronite', 'Aaronitic', 'Aaru', 'Ab', 'aba', 'Ababdeh', 'Ababua', 'abac', 'abaca', 'abacate', 'abacay', 'abacinate', 'abacination', 'abaciscus', 'abacist', 'aback', 'abactinal', 'abactinally', 'abaction', 'abactor', 'abaculus', 'abacus', 'Abadite', 'abaff', 'abaft', 'abaisance', 'abaiser', 'abaissed', 'abalienate', 'abalienation', 'abalone', 'Abama', 'abampere', 'abandon', 'abandonable', 'abandoned', 'abandonedly', 'abandonee', 'abandoner', 'abandonment', 'Abanic', 'Abantes', 'abaptiston', 'Abarambo', 'Abaris', 'abarthrosis', 'abarticular', 'abarticulation', 'abas', 'abase', 'abased', 'abasedly', 'abasedness', 'abasement', 'abaser', 'Abasgi', 'abash', 'abashed', 'abashedly', 'abashedness', 'abashless', 'abashlessly', 'abashment', 'abasia', 'abasic', 'abask', 'Abassin', 'abastardize', 'abatable', 'abate', 'abatement', 'abater', 'abatis', 'abatised', 'abaton', 'abator', 'abattoir', 'Abatua', 'abature', 'abave', 'abaxial', 'abaxile', 'abaze', 'abb', 'Abba', 'abbacomes', 'abbacy', 'Abbadide']\n"
     ]
    }
   ],
   "source": [
    "from nltk.corpus import words #Import word data\n",
    "word_list = words.words()\n",
    "# prints 236736\n",
    "print (len(word_list))\n",
    "print (word_list[:100])"
   ]
  },
  {
   "cell_type": "code",
   "execution_count": 5,
   "metadata": {},
   "outputs": [],
   "source": [
    "import re\n",
    "from math import log\n",
    "\n",
    "def readAFile(file_name):\n",
    "    text_file = open(file_name, \"r\", encoding=\"utf8\")\n",
    "    next(text_file) #Pass the first line\n",
    "    lines = text_file.read().splitlines() #Contains raw lines\n",
    "    dataset = []; #List of tuple (note, list of word)\n",
    "    \n",
    "    for line in lines :\n",
    "        line = re.sub('\\?|\\!|\\/|\\;|\\:|<br|>|\\,|\\\"|[()]|<p', '', line.lower())\n",
    "        #print(line)\n",
    "        current_elt = line.split()\n",
    "        note = 1 if (float(current_elt[-1]) > 3.0) else 0  \n",
    "        list_of_words = []\n",
    "        for word in current_elt[1:-1] :\n",
    "            word = re.sub('\\.','',word)\n",
    "            list_of_words.append(word)\n",
    "        dataset.append((note,list_of_words))\n",
    "    text_file.close()\n",
    "    return dataset\n",
    "\n",
    "training_set = readAFile(\"lab_train.txt\")\n"
   ]
  },
  {
   "cell_type": "code",
   "execution_count": 34,
   "metadata": {},
   "outputs": [
    {
     "data": {
      "image/png": "[encoded data removed]",
      "text/plain": [
       "<matplotlib.figure.Figure at 0x7faa7c67c438>"
      ]
     },
     "metadata": {},
     "output_type": "display_data"
    }
   ],
   "source": [
    "import matplotlib.pyplot as plt\n",
    "\n",
    "def get_score(file_name):\n",
    "    text_file = open(file_name, \"r\", encoding=\"utf8\")\n",
    "    next(text_file) #Pass the first line\n",
    "    lines = text_file.read().splitlines() \n",
    "    scores = []\n",
    "    \n",
    "    for line in lines :\n",
    "        line = re.sub('\\?|\\!|\\/|\\;|\\:|<br|>|\\,|\\\"|[()]|<p', '', line.lower())\n",
    "        current_elt = line.split()\n",
    "        score = float(current_elt[-1])  \n",
    "        scores.append(score)\n",
    "    text_file.close()\n",
    "    return scores\n",
    "\n",
    "scores = get_score(\"lab_train.txt\")\n",
    "\n",
    "plt.hist(scores)\n",
    "plt.title(\"Score repartition\")\n",
    "plt.xlabel(\"Score\")\n",
    "plt.ylabel(\"Occurences\")\n",
    "plt.show()"
   ]
  },
  {
   "cell_type": "code",
   "execution_count": 35,
   "metadata": {},
   "outputs": [
    {
     "name": "stdout",
     "output_type": "stream",
     "text": [
      "238581\n"
     ]
    }
   ],
   "source": [
    "#Add special words from training data into dictionnary\n",
    "for data in training_set:\n",
    "    for word in data[1]:\n",
    "        word_list.append(word)\n",
    "words = set(word_list)\n",
    "\n",
    "print (len((words)))\n"
   ]
  },
  {
   "cell_type": "markdown",
   "metadata": {},
   "source": [
    "## Step2 : Generate the priors probabilities"
   ]
  },
  {
   "cell_type": "markdown",
   "metadata": {},
   "source": [
    "We will then generate a dictionnary that contains the number of occurences of a word $d_i$ in class $C$"
   ]
  },
  {
   "cell_type": "code",
   "execution_count": 15,
   "metadata": {},
   "outputs": [],
   "source": [
    "def getCountTable(dataset):\n",
    "    count_table = {}\n",
    "    for data in dataset:\n",
    "        current_class = data[0]\n",
    "        if (current_class not in count_table):\n",
    "            count_table[current_class]={}\n",
    "        for word in data[1]:\n",
    "            if (word in count_table[current_class]):\n",
    "                count_table[current_class][word]+=1\n",
    "            else :\n",
    "                 count_table[current_class][word]=1\n",
    "    return count_table\n",
    "count_table = getCountTable(training_set)\n",
    "\n",
    "def getConditionalProbabilities(countTable,dataset,wordList):\n",
    "    condprob = {}\n",
    "    totalSum = {}\n",
    "    for Classe in count_table :\n",
    "        totalSum[Classe] = 0\n",
    "        for word in countTable[Classe]:\n",
    "            totalSum[Classe] += (countTable[Classe][word])\n",
    "        current_class = Classe\n",
    "        if (current_class not in condprob):\n",
    "            condprob[current_class]={}\n",
    "        for word in wordList:\n",
    "            if (word in countTable[current_class]):\n",
    "                condprob[current_class][word] = (countTable[current_class][word]+1)/(totalSum[current_class]+len(wordList))\n",
    "            else :\n",
    "                condprob[current_class][word] = (1)/(totalSum[current_class]+len(wordList))\n",
    "\n",
    "    return condprob\n",
    "condprob = getConditionalProbabilities(count_table,training_set,word_list)\n",
    "\n",
    "            "
   ]
  },
  {
   "cell_type": "markdown",
   "metadata": {},
   "source": [
    "We then need to calculate the probabilities of a given class $P(C)$ and $N_C$ the total number of words in class $C$"
   ]
  },
  {
   "cell_type": "code",
   "execution_count": 16,
   "metadata": {},
   "outputs": [
    {
     "name": "stdout",
     "output_type": "stream",
     "text": [
      "{0: 0.21, 1: 0.79}\n"
     ]
    }
   ],
   "source": [
    "def getClassProbabilities(dataset): #Number of docs in class / total number of doc\n",
    "    number_of_data = len(dataset)\n",
    "    result = {}\n",
    "    #Count all occurence of each class\n",
    "    for data in dataset:\n",
    "        current_class = data[0]\n",
    "        if (current_class in result):\n",
    "            result[current_class]+=1\n",
    "        else :\n",
    "            result[current_class]=1\n",
    "    #Divide by the total number to get a probability\n",
    "    for Class in result:\n",
    "        result[Class] = float(result[Class])/number_of_data            \n",
    "    return result\n",
    "\n",
    "P_C = getClassProbabilities(training_set)\n",
    "print(P_C)"
   ]
  },
  {
   "cell_type": "markdown",
   "metadata": {},
   "source": [
    "In our example we have $ P(1) = 0.5637877504939317 $ and $P(0) = 0.4362122495060683$"
   ]
  },
  {
   "cell_type": "markdown",
   "metadata": {},
   "source": [
    "## Step 3 : Try the classifier"
   ]
  },
  {
   "cell_type": "markdown",
   "metadata": {},
   "source": [
    "The probability of a document belongs to a class $C$ is given by\n",
    "$$P \\propto P(C) \\cdot \\prod_i P(d_i|C) = P(C) \\cdot \\prod_i^n \\frac{count(d_i, C)}{\\sum_j count(d_j, C)} = P(C) \\cdot \\prod_i \\frac{count(d_i, C)}{N_C} $$\n",
    "If we don't have any probability for the word $d_i$, we use $P(d_i|C) =1$ That is called the **Laplacian Smoothing**\n",
    "\n",
    "As we don't normalize our probability we will compare $\\ln(P(C)) + \\sum_i \\ln P(d_i | C) = \\ln(P(C))-n\\ln(N_C) + \\sum_i \\ln( count(d_i , C)) $"
   ]
  },
  {
   "cell_type": "markdown",
   "metadata": {},
   "source": [
    "### 3.1 Get the test dataset"
   ]
  },
  {
   "cell_type": "code",
   "execution_count": 17,
   "metadata": {},
   "outputs": [
    {
     "name": "stdout",
     "output_type": "stream",
     "text": [
      "(1, ['i', 'thank', 'the', 'lord', 'for', 'this', 'dvd', 'and', 'movieit', 'has', 'touched', 'my', 'life', 'down', 'through', 'the', 'yearsin', 'fact', 'when', 'i', 'was', 'in', 'a', 'car', 'accident', 'i', 'was', 'playing', 'the', 'music', 'from', 'this', 'movie', 'on', 'an', '8', 'track', 'tape', 'and', 'it', 'was', 'a', 'blessing', 'as', 'i', 'was', 'hit', 'and', 'in', 'a', 'ditchthe', 'song', 'was', \"playingit's\", 'a', 'miracle', 'and', 'it', 'wasthank', 'you'])\n"
     ]
    }
   ],
   "source": [
    "\n",
    "test_dataset = readAFile(\"lab_test.txt\")\n",
    "print(test_dataset[0])"
   ]
  },
  {
   "cell_type": "markdown",
   "metadata": {},
   "source": [
    "### 3.2 Choose according to the Naïve Bayes Classifier"
   ]
  },
  {
   "cell_type": "code",
   "execution_count": 18,
   "metadata": {},
   "outputs": [
    {
     "name": "stdout",
     "output_type": "stream",
     "text": [
      "1\n",
      "this set for my husband's birthday we'd never really been able to get into the show while it ran but having the complete series - great idea content sg-1 is just great characters plots even an occasional effect product first order - lots of scratched disks several unplayable plenty of skipping and popping second order - just like first order 3 disks either totally or partially unplayable in first 5 seasons didn't bother checking rest returned this production quality is really unacceptable imo i don't care much about the price - having unplayable disks repeatedly points to a problem somewhere in the mfg or delivery chain amazon's response support first time issued replacements even though outside the 30 day window second time issued rma and full refund this was absolutely the right service response and my happiness with amazon went up several notches i may never buy another complete series boxed set without waiting and researching but i'll be back to amazon if only for the great service now how will we get our fix for the last 5 seasons netflix\n",
      "Real class :  0\n"
     ]
    }
   ],
   "source": [
    "def get_max_value_key(dictionnary):\n",
    "    values = list(dictionnary.values())\n",
    "    keys = list(dictionnary.keys())\n",
    "    max_value_index = values.index(max(values))\n",
    "    max_key = keys[max_value_index]\n",
    "    return max_key\n",
    "\n",
    "def classify(list_of_word):\n",
    "    prediction = {}\n",
    "    for Classe in condprob :\n",
    "        nb_word_counted = 0\n",
    "        prediction[Classe] = log(P_C[Classe]) #Initialisation \n",
    "        for word in list_of_word :\n",
    "            if (word in condprob[Classe]):\n",
    "                prediction[Classe] += log(condprob[Classe][word])\n",
    "\n",
    "    return get_max_value_key(prediction)\n",
    "\n",
    "index_to_try = 5\n",
    "print(classify(test_dataset[index_to_try][1]))\n",
    "print(' '.join(test_dataset[index_to_try][1]))\n",
    "print(\"Real class : \",test_dataset[index_to_try][0])\n",
    "            \n"
   ]
  },
  {
   "cell_type": "markdown",
   "metadata": {},
   "source": [
    "If we try to display all the test data :"
   ]
  },
  {
   "cell_type": "code",
   "execution_count": 19,
   "metadata": {},
   "outputs": [
    {
     "name": "stdout",
     "output_type": "stream",
     "text": [
      "----------------------------------\n",
      "i thank the lord for this dvd and movieit has touched my life down through the yearsin fact when i was in a car accident i was playing the music from this movie on an 8 track tape and it was a blessing as i was hit and in a ditchthe song was playingit's a miracle and it wasthank you\n",
      "1 - Positive\n",
      "True class : 1\n",
      "----------------------------------\n",
      "chance meeting on a train changes the life of tennis player guy haines farley granger in ways he never could have imagined when an odd obsessed tennis fan bruno anthony robert walker recognizes haines he does his best to ingratiate himself talking incessantly about the details of guy's life details that most people wouldn't bring up at first meeting but bruno is a strange man indeed bruno hates his father and wants him dead guy wants a divorce from his unfaithful wife miriam so he can marry political socialite ann morton ruth roman bruno devises a plan where he and guy swap or exchange murders guy murders bruno's father and bruno murders guy's wife by doing so it will be impossible to link either of them to the respective murders bruno thinks this is the perfect plan and convinces he thinks guy that this plan will work guy on the other hand is half listening to his odd companion and assumes that nothing will come of bruno's wild imaginings wrong bruno actually kills guy's wife then hunts guy down to have him return the favor guy is shocked but fearful that if he doesn't humor bruno he will be implicated in his wife's murder as with all hitchcock films there are enough plot twists to keep the viewer guessing what the outcome will be right up to the famous carousel scene toward the film's climax hitchcock of course employs excellent camera work with great scenes in washington dc the scene with walker in front of the jefferson memorial is absolutely chilling and the forest hills tennis club on long island where we are treated to what a tennis match looked like in the 1950s like shadow of a doubt hitchcock's earlier classic doubles abound the two men one good one evil guy is going to southampton long island to play doubles two drinks on the train doubles two women with glasses miriam and barbara morton ann's younger sister and on and on based on the novel by patricia highsmith the talented mister ripley adapted by ben hecht uncredited and alfred and alma hitchcock raymond chandler gets credit for the screenplay however most of what he originally wrote did not make the final cut once this movie gets going the suspense and tension just doesn't let up this film provided probably the best roles either granger or walker ever had and they do excellent work here walker is effectively charming and creepy all at the same time like joseph cotton in shadow of a doubt and granger is properly shocked and paralyzed by what he perceives to be an impossible series of events placing him and his fiancee in incredible peril the british version has a different ending than the american version i prefer the ending in the american version to the british however both are satisfying and don't change the film's conclusion a wonderful film with all the great hitchcock touches you will be wonderfully entertained by strangers on a train\n",
      "1 - Positive\n",
      "True class : 1\n",
      "----------------------------------\n",
      "i bought this box set only a week or two after i decided that i was a beatles fan i am so glad that it was my first in-depth look at the beatles it took me less than a week to watch because i was glued to the television watching eleven hours of footage there were concerts interviews with the three remaining beatles at the time music videos clips from their wonderful movies and oh so much more anyone that is a beatles fan at all would love this set if you are considering buying it stop considering buy it right away the book and accompanying cds are also done with the utmost in quality and detail and i have loved them these few months that i have been begun my beatlemania\n",
      "1 - Positive\n",
      "True class : 1\n",
      "----------------------------------\n",
      "film has tons of highlights the waxing scene being my personal favorite had me laughing through the entire part i read that steve carell's hair was really ripped off for that scene that's gotta hurt\n",
      "1 - Positive\n",
      "True class : 1\n",
      "----------------------------------\n",
      "is supposed to be a comedic 'spoof' and a 'homage' to the zombie movie it accomplished that and more while the comedy is wryly british it is still funny - and the social comment is universal to civilized society in cased you missed it - we're all zombies already just a fun movie from start to finish - be warned there are the gratuitous 'gore' scenes necessary for it to be a zombie film but they are few fast and over there is a lot of 'quick-wit' humor - the newscaster's comments at the end i never thought i'd say as an example strip away the humor and homage and there is actually a much tighter plot than many movies there are not many loose threads - how did the zombie get in - go back three scenes and oh ed habitually leaves the front door open impressed by the attention to those kind of details it's billed as a romantic comedy with zombies - and it delivers\n",
      "1 - Positive\n",
      "True class : 1\n",
      "----------------------------------\n",
      "this set for my husband's birthday we'd never really been able to get into the show while it ran but having the complete series - great idea content sg-1 is just great characters plots even an occasional effect product first order - lots of scratched disks several unplayable plenty of skipping and popping second order - just like first order 3 disks either totally or partially unplayable in first 5 seasons didn't bother checking rest returned this production quality is really unacceptable imo i don't care much about the price - having unplayable disks repeatedly points to a problem somewhere in the mfg or delivery chain amazon's response support first time issued replacements even though outside the 30 day window second time issued rma and full refund this was absolutely the right service response and my happiness with amazon went up several notches i may never buy another complete series boxed set without waiting and researching but i'll be back to amazon if only for the great service now how will we get our fix for the last 5 seasons netflix\n",
      "1 - Positive\n",
      "True class : 0\n",
      "----------------------------------\n",
      "is an old film but i've only recently seen it it's about a woman's struggle in the workplace a very eighties theme if you're old enough to remember it i found that aspect of it well-done the setting is the iron fields of the upper midwest many of the players seem to be amateurs which is a source of its charm in many ways the small town setting and culture as depicted create an effective ambiance but it's also a love story and i did not find it a very compelling one in terms of the chemistry between the lovers lisa eichhorn as june has pretty eyes but she's too stoic to be interesting tom bowers as her lover is too old for her and just as big a jerk as her antagonists for much of the picture steve yokam as the evil ex-husband gets to do the most acting and appoints himself well the music is pleasingly haunting in places but the best thing about this movie is the scenery -- the countryside lake superior and the lovely cinda jackson as karen june's best friend\n",
      "1 - Positive\n",
      "True class : 1\n",
      "----------------------------------\n",
      "motion picture following in the not-so-illustrious filmmaking footsteps of such feature-length propaganda films as &quotjohn q&quot and &quotthe life of david gale&quot &quotrunaway jury&quot was doomed to well-deserved obscurity by its awful script before the first scene was shot i went into this movie with rather high expectations though i have no love for john grisham i am very fond of john cusack's work unfortunately not even his solid perfomance could save this movie &quotrunaway jury&quot suffers from a complete lack of originality even after the producers changed the legal target of this film from big tobacco to gun control presumably to avoid having to be compared with &quotthe insider&quot most average moviegoers will see the predictable plot &quottwists&quot a mile away the plot and most of the characters especially gene hackman's become so farfetched that this movie might as well take place on the starship enterprise still even with the fantastic the movie manages to drag on and on and on during its considerable middle stages i started to wonder if it would ever end mercifully it did and came to a &quotclimax&quot so predictable and so there's no other way to say this hollywood that i was left with the intense feeling that i would have been better intellectually served by watching pokemon the agenda of the producers is so painfully clear throughout the movie that the characters might as well have been wearing sandwich boards spouting anti-gun slogans even supporters of gun-control will be turned off by the constant self-serving nature of this picture and offended by the lack of subtlety in which the writers have chosen to deliver the message they really do think we're stupid oh and john cusack homey this is strike two after &quotidentity&quot maybe you can get back with steven frears and jb and do a sequel to &quothigh fidelity&quot for redemption i just hope you got paid an awful lot to do this movie and didn't sign on because you liked the script\n",
      "1 - Positive\n",
      "True class : 0\n",
      "----------------------------------\n",
      "just having review message in a bottle and slamming it i'll end up eating my words i watched this movie before i started reading nicholas sparks this movie prompted me to start reading his work i started with a walk the book and even though it's a lot different from the book i appriciate both for being great stories both of them are good stories and i think the adaptation of this one rings true to the book they are different time settings - the book and the novel - but most of what nicholas wrote stays with the movie you'll be blown away by shane west and mandy moore you'll laugh you'll cry you'll find yourself being moved the movie makes you fall in love with it's characters and leaves you longing for more\n",
      "1 - Positive\n",
      "True class : 1\n",
      "----------------------------------\n",
      "searchers is not your typical john wayne western sure - it is a cowboy movie that is directed by john ford and includes a simple story to follow after the murder and kidnapping of a family member the duke and his buddy go searching for the culprits in this case a group of indians led by a chief named scar are to blame but the searchers is different because john wayne is much more intense in this role than others despite some slow parts in the plot the duke pulls off the role with vigor also a few social issues are included as well normally i would give this movie five stars but i simply did not enjoy it as much as some other john wayne westerns that i have seen while i think it is worth watching not sure it is not quite a five-star classic if you like westerns you will most likely enjoy this one although be prepared for a different type character than the duke typically portrays\n",
      "1 - Positive\n",
      "True class : 1\n",
      "----------------------------------\n",
      "well done portrayal of a pivotal time in the history of the united states american pastime reveals a portion of what life was like for the japanese-americans incarcerated in relocation camps tasteful in showing the hardships and challenges that faced families living in camps it was true that for some baseball and other sports are what saved their sanity also accurate is the fact that there were some people from hawai'i that were sent to topaz the prejudice they faced and the heavy loss of life suffered by the go for broke 442nd i was one of the extras in this movie and having done a three-year project developing lesson plans on topaz for the japanese-american national museum i can tell you that the director and producer were careful to remain as true to details as possible included in the many extras were people who were actually incarcerated they said the set was so well-done that if they didn't know better they would have thought they were back in camp again\n",
      "1 - Positive\n",
      "True class : 1\n",
      "----------------------------------\n",
      "you must have the funds to add this to your collection shannen doherty's best work season one and season 3 her masterpeices a must buy long live the queen b\n",
      "1 - Positive\n",
      "True class : 1\n",
      "----------------------------------\n",
      "away is the story of chuck tom hanks a fedex delivery worker who finds himself stranded on a desert island after his plane goes down on each end of the movie is the story of his life back in the real world however that story is somewhat undeveloped and underemphasized before the crash he had just proposed to his fiance and upon his return he finds that she is married with children and on a side note either time moved faster on the mainland or else his loving fiance was married and pregnant in less than a year after his disappearance i felt that subplot should have either been left alone or else dealt with in a more elaborate way the ending left the movie feeling incompletehowever the heart of the movie involves chuck's time on the island and it is simply hanks at his best chuck is alone trying to survive every little task could mean the difference between life and death for hanks this means he must display the gamut of emotions about seemingly trivial matters with no other actors to help with the illusion i know of no other actor that could have me to the point of tears when a volleyball starts to float away from him no offense to russel crowe but how he won best actor for playing a stoic monosyllabic gladiator over this performance is one of life's great mysteries for fans of great acting performances this one is highly recommended\n",
      "1 - Positive\n",
      "True class : 1\n",
      "----------------------------------\n",
      "the passage of time makes clear that a work of art was not what it appeared to be at first what once seemed odd out of place or just plain wacked then becomes a prescient work of art that is honored as being ahead of its time or at least ahead of the audience's understanding of it edward scissorhands is such a film or maybe it's just me i recall seeing this unique fantasyfairy tale a few years ago but didn't get to see the whole thing i don't recall if i was distracted just didn't have the time or simply didn't get it but upon close attention at long last i find this to be a mesmerizing beautiful touching film that defies categorization this singular vision of director tim burton his fourth hit in a row following pee-wee's big adventure beetle juice and batman is a retelling of the frankenstein legend with the twist that this manmade man was left with scissors instead of hands because his inventor who invented a man died just at the moment he was about to replace those monstrous hands with more human-looking ones johnny depp plays edward of course with pancake makeup an electric hairdo and a sense of little boy lost that the women in the film can't resist the chief of whom is eventually young and beautiful winona rider in her natural blonde yes her usual black hair is a dye job the fantasy element of the film allows us to overlook its anachronistic nature as edward is adopted by an avon lady who lives in a neighborhood straight out of jackie o's early to mid '60s suburbia yet one of its inhabitants talks about needing a new cd player we also see his home and its extremely modern security system and little details like what did edward eat for all those years when he was helpless and living alone and apart from the world and why in heaven's name was he given scissors for hands in the first place these are bothersome things but the whole film is so unreal that they somehow don't intrude enough to mar either the atmosphere or the story it's a fairy tale after all questions of such nature are not welcome or required burton belongs to that pantheon of directors whose work bears a unique stamp visually and aesthetically otherwise so that it's clear that you're watching a burton film that puts him in an elite group of directors such as hitchcock spielberg kubrick scorsese bergman tarantino fellini spike lee sidney lumet david lynch woody allen robert altman etc not bad company to be in scissorhands reeks of burton's rich textures of visuals and sounds that are slightly off yet perfectly interwoven matching the story and the angle he wants to take with it it also carries the delicious depth of story that one has to plumb after viewing is the title character a representation of burton himself the self-image of a freakish character out of step with his surroundings and ultimately rejected to create his beautiful works of art without being judged by normal people is the film burton's way of saying that he thinks god is dead and that he left us incomplete with the ability to create wondrous things but also the clumsiness that leads to horrible accidents that we are sometimes blamed for except by those we love perhaps both in any event this is well worth repeated viewing a couple of nits to clear up here other reviewers make the mistake of saying this was burton's first film way wrong and that this was depp's first film again way wrong burton's earlier successes are detailed above deep had been featured in nightmare on elm street and platoon before he became a star on tv's 21 jump street and he was the lead actor in the film cry baby before this film came out just a note added in the cause of correct information\n",
      "1 - Positive\n",
      "True class : 1\n",
      "----------------------------------\n",
      "see a guy in a bubble in space with a tree in it eats part of the tree and breaks out of the bubble - wait that happened at the end the guy has a dying wife who is infinitely stoic about dying who writes a book called the fountain that the guy starts reading she wants him to finish the book for her as she has written all but the last chapter this is supposed to be really meaningful because she's dying you know in it a conquistador is sent by the queen of spain to find a hidden mayan pyramid that has the tree of immortality in it using three holes in a broken knife for a map she wants him to do this to save her from the spanish inquisition which nobody expects once there he fights his way through a few warriors and some kind of religious looking person eats some of that tree but instead of it saving him it kills him and turns him into a bunch of flowers within a minute or so what else the guy is some type of medical researcher who violates all the rules about drug studies and in a flash of insight caused by looking at patterns in falling snow i think miraculously comes up with a serum that reverses aging he wanted to use it on his dying wife but she had already died [heavy sigh] he did save a dying monkey though so that's good then back in space he breaks out of the bubble then goes back in i think that's about it he never finishes the book - they kind of forgot about it i guess to those who compare this to 2001 a space odyssey - yes there is a bubble in space in both movies otherwise they bear no resemblance to each other whatsoever to compare this to anything kubrick made is an insult to kubrick if you are the kind of person that thinks it is philosophically deep to see a bald guy in the lotus position tumbling through space or floating four feet off the ground in front a vaguely mayan religious person then you might have a chance of enjoying this movie otherwise be prepared to feel like you just wasted 92 minutes of your life just awful\n",
      "1 - Positive\n",
      "True class : 0\n",
      "----------------------------------\n",
      "cast richard o'brien barry bostwick susan sarandon tim curry soundtrack of the theatrical version made famous in midnight movie show houses across america in the 70's and 80's this is an extremely rare example of a movie being better than stage richard o'brien and jim sharman did a great job making the converting the play to film\n",
      "1 - Positive\n",
      "True class : 1\n",
      "----------------------------------\n",
      "beautifull combination of camerawork story telling and fantastic acting\n",
      "1 - Positive\n",
      "True class : 1\n",
      "----------------------------------\n",
      "quality for an older movie we couldn't find anywhere else my son had been asking to see this movie after he saw the rocky movies i am glad we found it here\n",
      "1 - Positive\n",
      "True class : 1\n",
      "----------------------------------\n",
      "blue eyes&quot lies a little below &quotanalyse this&quot alongside &quotthe whole nine yard's&quot and well above &quotmafia&quot it is a constantly enjoyable comedy even though most of the great laughs are given away in the trailerhugh's performance may have been over-shadowed by &quotnotting hill&quot one but here he is allowed to cut loose and be funnier sillier and play to his stereotype as does james caan playing a comical version of himself jeanne tripplehorn gets to play a rare nice role and seems to have fun in fact everyone in the film seems to be having fun and that adds to the audiences funthe dvd isn't exactly packed with features so it looses 1 star for that but fans of the film will not be disappointed\n",
      "1 - Positive\n",
      "True class : 1\n",
      "----------------------------------\n",
      "is a terrific movie i found it totally captivating as did my twelve year old son the title has a double meaning it refers to the month of march when the mating cycle of the emperor penguins begins and also to the long march this particular colony has to make to their mating ground why do they have to travel such a distance to their colony well first you have to understand that this movie is about one colony there are dozens of them all around the coat of antarctica i did some reading after the movie the cycle of mating nurturing the egg and raising the chick takes months and months it begins in their fall our spring through their winter spring and into their summer during the spring and summer the ice melts towards their breeding ground they have to be at a place that remains safe for their chicks and in the summer the sea is only a few hundred yards from their breeding ground which is convenient for the feeding of the always hungry and rapidly growing chick the story of the way the couples choose each other create and care for the fertilized egg and that it requires both the male and female penguin and demands on them almost to the point of death is just amazing and strangely inspiring i guess because raising our young for more than twenty years requires a similar kind of dedication but not as concentrated as the penguin couple's absolute focus over one brief season the dcd also has a full length program on the making of the movie this is as fascinating as the movie in its own way the french filmmakers provide their own narration and at times their prose gets a bit much about how much they are sacrificing and so one while i take my hat off to them for giving a year in such awful conditions to get the footage they did choose to do it but this documentary on the making of the film provides extra footage of the penguins that couldn't be in the g-rated version of the film and we get to see what they had to go through to get some of the amazing shots we see in the film there is also a short program from national geographic on the emperor penguins that is pretty good it is terribly marred by its childish quick cutting to add fake excitement of those with attention deficit disorder and its constant harping about how global warming might impact the penguins and that we should all be up in arms about it as if the penguins haven't adapted to changes in climate over the past millions of years give me a break and finally there is the delightful cartoon about bugs bunny trying to take an ice-show penguin who gets separated from his troupe back to the south pole this is a must have dvd and i recommend that everyone watch it and discuss it with their family and friends just great\n",
      "1 - Positive\n",
      "True class : 1\n",
      "----------------------------------\n",
      "hebrew with english subtitles synopsis the '95 israeli film `devarim' meaning memory of things is the first of three by writerdirectoractor amos gita followed by `yom yom' '98 and `kadosh' '99 which comprise his city trilogy the story unfolds in contemporary tel aviv focusing on three disillusioned thirty-something friends cesar played by assi dayan son of the legendary moshe dayan a moderately successful photographer and woman chaser israel amos schub an underachieving pianist and goldman amos gita your everyday mama's boy when goldman's father dies the three men wake up to the reality that life is temporary and death eventually awaits us all soon there life paths are laid bare in this onslaught of newly obtained self-awareness and how they have been spending their time and energy come into question will they discover their path to fulfillment and meaning or are they doomed to continue just going through the motions critique on the back cover of the dvd case this film is described as a moody portrait of israel's `lost generation' and indeed it is just that there is a pervading feeling of oppression and futility here that is immediately discernible from the very first moment and continues unmercifully to the end the story unfolds slowly beginning one hot sweltering summer's day in tel aviv where three men appear to live in a state of constant uncertainty agitation and depression every word spoken every action performed seems to be an automatic unconscious response that is unconnected to personal thought or human emotion they're just going through the motions of living while never partaking working without experiencing a call to vocation conversing without relating and having sex without loving theirs is a life of smoke and mirrors as goldman suggests in one pertinent conversation the unconscious embracing of the little death in preparation for the big death to follow what i personally found intriguing was the first hand insight the film provided into the mindset of the non-religious jew living in a land trapped in a constant state of emergency what must it be like to live in a land surrounded by militant enemies who want to destroy you a place where military service is mandatory and death at the hands of a suicide bomber can happen at anytime while the religious residents of israel may be able to deal with the situation by a worldview that envisions it to be all a part of god's ultimate plan what about those without religious faith to cling to surely it must be akin to living in a pressure cooker and that concept of impending doom and futility exudes from this film a fascinating subtext to the storyline was a rather long philosophical discussion between goldman and his mother in the second half of the film the conversation dealt with belief in god and atheism suffering and death and finally personal freedom and the right to choose what one does with life goldman comes to the conclusion that committing suicide is the ultimate act one can perform to demonstrate that the individual can do with their life what they will i found this to be a most revealing conclusion to come to by a non-religious israeli who has spent his entire life in the shadow of arabs making just that choice for me that conversation provided an amazing glimpse into the psyche of the contemporary israeli that made the film worth the time and effort\n",
      "1 - Positive\n",
      "True class : 0\n",
      "----------------------------------\n",
      "movie never gets old while there are things that require you to suspend disbelief a bit it is still a very good movie and bette davis and joan crawford are perfectly cast we rented it after i was sick in bed and my husband brought my lunch to me in bed and i made a reference to the movie that he did not get since he hadn't seen it before still love this movie\n",
      "1 - Positive\n",
      "True class : 1\n",
      "----------------------------------\n",
      "little along the lines of previous police stories but so much more jethro you know could sort anyone or anything at all abby is incredible and i wish i was 25 years younger the interplay between the characters makes the excelent script really come alive i am an adict please i can't wait for series 2 & 3 etc i'v waited too long for series 1\n",
      "1 - Positive\n",
      "True class : 1\n",
      "----------------------------------\n",
      "quite possibly be one of the worst movies i have ever seen quite a shame too wesley snipes is one of the better action guys out there\n",
      "1 - Positive\n",
      "True class : 0\n",
      "----------------------------------\n",
      "donnie darko and natural born killersthis is a really odd movie things seem to happen to this guy for no apparent reasonand it does answer your questions at the end however just as in donnie darko you hafta be smart enough to realize they're giving you answers if you dig psychological freak-out movies check this one out\n",
      "1 - Positive\n",
      "True class : 1\n",
      "----------------------------------\n",
      "movie emits knowledge and wisdom along with great acting with everyday issues that make you sympathize with the characters the main three characters interact so well especially when there is no dialogue that it eady to relate to people without prejudice\n",
      "1 - Positive\n",
      "True class : 1\n",
      "----------------------------------\n",
      "and her strugle to succede is an all american story\n",
      "1 - Positive\n",
      "True class : 1\n",
      "----------------------------------\n",
      "maybe the theme of the scenario is not fresh but it still entertains with out becoming stale one thing boggles my mind though how do you move a volcano don't get me wrong i can overlook almost every fantasy animes can throw at me but doesn't a volcano needs to be attached to earth to be fed lava anyway i guess i even pass that one during the movie and enjoyed it all the way\n",
      "1 - Positive\n",
      "True class : 1\n",
      "----------------------------------\n",
      "a matter of life and death when eight strangers narrowly escape a carastrophic freeway accident only a young girl's premonition saced them all from a grisly end but now that they have put a rift in death's design there's going to be a price to pay- and its going to be painful rated r for strong violencegruesome accidents language drug content and some nudity\n",
      "1 - Positive\n",
      "True class : 0\n",
      "----------------------------------\n",
      "is a feel good movie the only thing i have to say is they should have met sooner i just feel a little robbed they could have put the couple together a lot sooner then just at the end of the movie i sometimes feel like that is the mistake a lot of the movies make other then that it would have gotten five stars\n",
      "1 - Positive\n",
      "True class : 0\n",
      "----------------------------------\n",
      "movies' attention to detail and its realistic vastness is a reflection of the brilliance that is michael mann a must for anyone interested in great filmmaking\n",
      "1 - Positive\n",
      "True class : 1\n",
      "----------------------------------\n",
      "psychological thriller about a twisted stalker while very well acted by everyone and extremely well acted by robin williams disappointed me as it pushed the familiar buttons used the typical symbolism to give away people's motivations and ended in an improbable but deliciously creepy way wish i'd waited for the dvd\n",
      "1 - Positive\n",
      "True class : 0\n",
      "----------------------------------\n",
      "and disrespectful using bush's head  tasteless it woudl be good if entertainment just stay away from politic completely\n",
      "1 - Positive\n",
      "True class : 0\n",
      "----------------------------------\n",
      "wanted to love this movie but it was just missingsomething it did not help that the lead actortristan thorn for me just didn't cut it the rest of the cast was amazing and really pulled me inbut everytime his character was solo on screeni would start to lose attention all in all i very much enjoyed this movie but i borrowed it from a friend and it will not be one i purchase to watch over and over good plot creative and flamboyant sets and claire danes is spectacular\n",
      "1 - Positive\n",
      "True class : 1\n",
      "----------------------------------\n",
      "douglas is outstanding in the dual role of estranged brothers but the real star is the movie's hero jim craig winds up orphaned and banished from his own land when his father is killed in an accident involving a herd of wild horses jim goes to work for a wealthy rancher one of kirk's roles and comes to love his daughter the rancher doesn't think that jim is good enough for his daughter when conniving ranch hands release a valuable horse hoping for it to be blamed on jim he finds a chance to prove himself to everyone the story is dramatic and satisfying the scenery is top notch and the music is unforgettable this is a movie where you feel that you become part of the story as you get to know all the characters very well and become involved with jim's trials and growth somehow i had overlooked this movie for most of 30 years i'm delighted i finally found it\n",
      "1 - Positive\n",
      "True class : 1\n",
      "----------------------------------\n",
      "this is really some filmi had heard a lot about the film and really wanted to see itfinally i bought the dvd from amazonand the film was worth every penny i'd spend on it allritethe film is abt a crazy scientist overwhelmed by the idea of bringing the deads back to life another crazier egoistic celebrety scientist who forms a perfect nemisis to our anti heroits also about a dead pan room mate who makes out with college dean's daughter in his free time that is when he not getting blackmailed by herbert west or getting beaten up by zombies and then u have barbera crempton as the deans daughterand her affinity to wearing clothes besides there is green serum and lottsa gore to keep u entertained if the charecters them selves are not enough this is the kida film u ll either love or hatecause its one such film wich doesnt takes its self too seriouslyits a film which is made to entertain and thats exactly what it doesso if u ll looking for some thought provoking film stay away from this one this is the first out and out campy film with such a a class actingjeffery combs as herbert west steals the showhe is just right for the rolenobody else wud have done it betterthe rest of the cast supports real well now this is a film made in 1985 with a very low budget so dont expect mind boggeling special fxthe makeup fx are clumsy and stupid for this timebut when this film was madethey were way ahead of its time some scean in this film are real fun espthe decapitation scene and the most infamous head scene besides the dvd's extra feature are very goodas it comes with interviews with brian yuzuna and stuart gordanwhere they reveal that they even considered casting arnold schwerzenegerfor one not so important rolethen u have audio commentery by jeffery combbruce abbot and barbera cremptonwhich added with the films publicity stills explains how much fun they had while making the film believe me fellasthis is the best comedy u ll come across cause it never feels like a comedy and still u keep laughing when u watch it\n",
      "1 - Positive\n",
      "True class : 1\n",
      "----------------------------------\n",
      "vice a film surrounded by rumors and preconceptions and a lot of money is pretty much a bore - if story is important to you michael mann is a talented director and knows how to move action sequences and capture vistas and light versus darkness and he can be reliable in creating character interplay can be but in miami vice there doesn't seem to be a script to follow some of the more exciting actors in the field today were employed to deliver this movie about drug deals undercover agents and lots of violence but they are wooden and seem to be reading their few lines from a tv prompter there is just no character development to speak of no camaraderie between rico and sonny - factor that made the old tv show watchable but the cast is sterling colin farrell who needs a good meaty role before his allure falters the fine jamie foxx terribly out of his element here a miscast flat gong li why the excellent naomie harris by far the strongest character in the film elizabeth rodriquez justin theroux ciar&aacuten hinds with an awful southern accent and a set of new bad guys well chosen in isaach de bankol&eacute john ortiz and luis tosar with talent like that you'd think the thing could fly on its own but despite some really gorgeous photography there just isn't anyone or anything to maintain the viewer's interest for the interminable 214 minutes of run time one is left with the question 'wha happened' grady harp december 06\n",
      "1 - Positive\n",
      "True class : 0\n",
      "----------------------------------\n",
      "a great clip in a family guy episode where the character chris griffen comes out of the costner movie no way out and yowls how does kevin costner keep getting work that pretty much sums up what i have always thought about kevin's pinball-like quality of his projects for every dances with wolves which i thought in fact did deserve its' praise and awards there's a tin cup his acting ability has always come across onscreen as though kevin himself knows if he wasn't so damned good looking he'd be relegated to background scenes and the best friend of the movie's hero not here he makes what is really not that great a storyline - there are far too many side plots red herrings coincidences to move the script forward etc - and puts it up at the four star very close to the five star rating had he had better material to work with and had this movie completely concentrated on costner's serial killer character i'd have given it that last star in a heartbeat he plays as other reviews note man of the year earl brooks and while he has money respect a loving wife and many other perks mr brooks also hasissues he likes to murder people and he has been trying to beat that demon down for the last couple of years but he's unfortunate enough to have a yappy absolutely never-let-up id that only he can see and hear that is played to brilliance by william hurt as a matter of fact why didn't hurt get more praise for this turn there's talk of his great evil take all over the cult chat boards which follow this movie but hurt definitely deserved more than cult praise for this film he gets hold of kevin's earl brooks like a dog with a bone and just never lets up - mr brooks thinks his main problems are being blackmailed and a daughter who may have possibly inherited the killing gene uh-uh he's got the king of looney tunes in his own backseat laughing pouting and telling earl to push that accelerator down through to the metal whether it is what i have always thought was a somewhat wooden acting ability on kevin costner's part finally finding the right role to showcase it - the uptight perfect you have no idea what's going on inside me killer or if he's a better actor than i ever gave him credit for i have to admit i don't know but i do know that the entire movie could have and should have been about earl brooks and his crazy-as-hell alter ego with dane cook as a blackmailer who has no idea what gate of hell he's just opened also surprisingly good - see i'm willing to admit when i've judged somebody incorrectly as the one most important side plot i'd have been more than happy with the screenplay the detective sideline with demi moore is unnecessary and even the exit ramp added regarding the pregnant daughter and her possible tendencies to follow in her dad's footsteps or thumbprint as it were seems to be padding they didn't need it with this movie - mr brooks is a goodclose to great movie because of kevin costner and william hurt and since kevin's the name that brings in the most googling and queries about this film you've got to be fair and give the majority of praise to him it's his movie he holds it together and he should do movies like this much more often watch this with other scary stuff for halloween and see if this one doesn't have you getting up and making sure the doors are locked\n",
      "1 - Positive\n",
      "True class : 1\n",
      "----------------------------------\n",
      "let it's length put you off gettysburg's realism action cinematography and acting does for the civil war what ryan did for wwii movies unlike ryan gettysburg is a historical war epic in the true sense that faithfully reproduces these calamitous days in america's and therefore world history how different would the world be if the south had won one for the critical officaido\n",
      "1 - Positive\n",
      "True class : 1\n",
      "----------------------------------\n",
      "movie is graphically okay but the story is boring what i really hate is that the digital copy is not through your itunes or media account you have to join flixster this is a sucky app in the past you could redeem your digital copy and it would download to your itunes account you then moved your copy over to your ipad or iphone you could move things around now you have to download it twice and this takes a lot of time you are allowed to download the video 5 times really downloading it once was bad enough when i received the green lantern in november i was notified that my digital copy would not be available until december 20 now - i had to remember to download it i am not buying anymore combo packs it's way too much trouble i want my digital copy to be my copy not flixsht i don't want to be prompted to have my poor-chase connected to facebook\n",
      "1 - Positive\n",
      "True class : 0\n",
      "----------------------------------\n",
      "had very mixed feelings about bill murray through most of the 80s he was never one of my very favorites on snl - seems to me he skated through that show and though his easy charm was often an asset sometimes it just looked lazy in his film work he seemed to get increasingly ornery in his sarcastic attitudes climaxing i think with the ghostbusters films where he almost seems to be mocking the audience and the rest of the cast and crew acknowledging how stupid this crap is and that he's just going for the payoff at least that was my take on him at the time and by the early 90s i'd just about had enough of him thankfully what about bob and groundhog day changed my mind and the rest is history as he's gone on to have arguably the best and most interesting career of any snl alum eddie murphy and steve martin are doing stupid family comedies and endless sequels murray is working with wes anderson and jim jarmusch 'nuff said scrooged comes from the period that i still have some issues with but the thing is he's supposed to be a total jerk throughout most of the film and the snappy one-liners and flip attitude just help to make scrooge here tv executive frank cross a little different from other scrooges and more relevant today at least it feels like that's what's being attempted it worked pretty well really up until the ending transformation which being still pretty much played for laughs rings rather hollow maybe we're not supposed to really believe in it or care as long as we've had some good yucks i dunno anyway it all boils down to our exec frank putting on his own version of a christmas carol this one totally over-the-top and promoted so heavily that nobody will want to miss it with commercials so intense that one old lady dies while watching the ad frank of course thinks it's a good idea to use that as part of the promotion but he's such a nasty and seemingly irredeemable egomaniac that his old dead partner lew john forsyth decides to send our familar ghostly friends to visit him and show him just how worthwhile the holiday that he sneers at really is they are cheroot-chomping cabbie david johansen past sadistic fairy carol kane present and a more traditional skeletal yet to come and they show him his happier less-greedy life with girlfriend karen allen who in this rendition is still around to give our younger-than-usual scroogecross a different kind of happy ending after the credits roll all the ways he could help out others etc you know the drill the cast is the best thing about this even if i'm still a bit amibivalent about murray in this role you can't really mind any movie that features a put-upon bobcat goldthwaite and tough-but-resigned alfre woodard sharing duties as the bob cratchit figure mary lou retton as tiny tim robert mitchum as the certifiable insane network ceo who wants to make programs for cats and best of all lee majors as himself playing a commando come to rescue santa in the faux-christmas special the night the reindeer died that opens the film lee this is one santa who's goin' out the front door yeah it's not the most christmasy holiday movie but it's definitely got it's moments\n",
      "1 - Positive\n",
      "True class : 1\n",
      "----------------------------------\n",
      "awful it's just mediocre the acting isnt perfect the idea is messed up but lay back and enjoy\n",
      "1 - Positive\n",
      "True class : 1\n",
      "----------------------------------\n",
      "one maintains an open mind during the course of this film it will be easy to see that the basics of christianity are imparted to the viewer for instance the young paralyzed woman a convert explained the two commands that the messiah jesus gave to his followers the following is the quote referred to in the movie i transcribed it from the gospel according to luke &quot`you must love the lord your god with all your heart all your soul all your strength and all your mind' and `love your neighbor as yourself' &quot additionally the movie contains a touching story of romance between a roman tribune and an aristocratic lady i can say with all honesty that i have yet to see any movie that contains a more profound story of romantic love between a man and a woman &quotthe robe&quot also includes impressive shows of swordplayessentially this film holds something for everyone\n",
      "1 - Positive\n",
      "True class : 1\n",
      "----------------------------------\n",
      "and splendid story of the raising charlot till his stardom with meticulous insights about his private life love affairs  from start to end a delightful and poignant film  attenborough repeated another bio after his successful film gandhi and made a superb movie with a magnificent cast and extraordinary and vivid locations  robert downey jr deserved to win the academy award for this one and pacino deserved it with godfather ii  but you know sometimes the logic is so elusive\n",
      "1 - Positive\n",
      "True class : 1\n",
      "----------------------------------\n",
      "movie as a whole was a disappointment this film does not deserve to hold a place next to great civil war movies such as glory and gettysburg let's hope the last full measure the final installment in this trilogy which also features gettysburg is on par with the aforementioned gettysburg the movie for the most part felt like a high school playand a bad one at that lofty and highly unbelievable dialogue combines with actors who seem to feel uncomfortable in their wool reenactment costumes creating an overall awkward viewing experience furthermore had the film editors used a more discerning eye the movie may have been more enjoyable one finishes feeling like an hour could have easily been cut from the product something must be said for the battle sequences however often impressive and sometimes extremely poignant they help to redeem the film overall however one could find another way of spending four hours for a more moving and watchable civil war experience turn to gone with the wind glory or gettysburg you're less likely to be disappointed\n",
      "1 - Positive\n",
      "True class : 0\n",
      "----------------------------------\n",
      "dig beck from time to time his popular compositions where it's at and devil's haircut runs in my mind can't get it off actually but somehow i don't dig the fillers from his early albums 'til he penned what i consider to be his masterpiece sea change for those who wants his hip side the samplings funky hip-hop trippers most probably they've panned sea change don't worry i understand you it's as if you wanna ask yourself why beck would suddenly shift to become this melodramatic musician but i listen to diversified types of music and sea change raised the bar of my respect for beck even higher after all how could someone so hip can all of a sudden create a solemn album and yet it never went out of place instead critics raved loved it so much for which i understand their judgement of the album rolling stones even gave it 5 stars and when i listened to it i was held back and even shed a tear listen to lonesome tears with the background orchestra now let's go to guero before i listened to his latest release i very much anticipated his hip side all over the album alreadyand i was right almost all the songs are funky-cool but yet diversified in how they were executed whether it be rock e-pro sunshine-pop-alternative girl hip-hop que onda guero trip-hop sounding earthquake weather go it alone melancholia broken drum psychedelia missing emergency exit world black tambourine funk hell yes country rock scarecrow blues farewell ride classic rock sound rental car 80's new wave themed send a message to heryeah it's all there and still his performances and all the songs on the album never went out of place that's what makes a great composer musician and a great album and in these modern times where music compositions like these are rarely heard in one album in my opinion beck deserves all the more respect from the music world whether from the new or older generation i will never be surprised if this album gets nominated in the grammy's next year or even win album of the year and numerous awards outside the grammy's frontier and for me this is the best from all his critically acclaimed hip albums mellow gold odelay and mutations here he sounds more mature no wackiness he's more serious calm so i give 5 stars to the white boy it's worth a try still i consider sea change his classic masterpiece\n",
      "1 - Positive\n",
      "True class : 1\n",
      "----------------------------------\n",
      "ensemble cast delivered the goods and nailed each of their performances tobey and jake are very believable as brothers and natalie was the true heart of this story as her beloved husband played by tobey goes to a very dark place as a result of his experience in the war all of the cast members were strong and made you really care about what happened to them i felt their happinesspain and sadness jim sheridan the director is true to his style and storytelling theme about war and its effects on a marriagefamily and forgiveness there was one scene with he and natalie that reduced me to tears and that is not an easy thing to do thus the five star rating which is well earned and deserved\n",
      "1 - Positive\n",
      "True class : 1\n",
      "----------------------------------\n",
      "its relatively short length and somewhat minimalistic setting hard candy is a film that contains more depth and complexity than i could ever touch on all of in this review the story centers around two main characters a young girl named haley ellen page who meets an older man on the internet patrick wilson not to be confused with the drummer from weezer whom she suspects to be a sexual predator at first it appears that she is falling for his act and taking the bait and as they go back to his house it is apparent to the viewer that bad things are on the horizon this is true but not at all in the way that you'd expect haley soon reveals herself to be an extremely angry and vengeful person who was plotting all along to take her deep-seated rage out on this guy i won't go into the specifics but things get quite unpleasant for this fellow what ensues is a very interesting and horrific ballet between the two in which you see a dizzying array of different emotional layers in both characters one of the most brilliant things about this movie is that there is really no designated hero or villian here and it's almost like your sympathy is meant to shift from one character to the other jeff the male character is indeed revealed to be a pretty bad person but we also see numerous moments in which he appears sympathetic and you almost feel sorry for him even knowing what kind of person he really is likewise haley while an obviously intelligent person with largely good intentions is so driven by her vengeance and rage that she frequently comes off as frighteningly psychotic the lines of good and evil are so heavily blurred between them at times that there almost seems to be no protagonist at all one of the biggest themes obviously is the irrational justification of depravity haley talks about being disgusted by the ways in which pedophiles attempt to justify their actions but ironically she is doing the same thing herself in her own twisted way she feels that she is doing what has to be done even though her actions are just as horrific we see these two characters that are both sick and twisted albeit in very different ways and neither can see their own hypocrisy even if they can recognize it in each other there is so much more that can be discussed here but i think i'll leave it at that now it is time to once again praise the incredible ellen page many know her as the lovable title character in juno but here she proves her amazing versatility with a nearly polar opposite type of performance her performance is dark venomous and downright bone-chilling and even with her small and unimposing stature creates a truly terrifying character but again she's not a complete monster and ellen does an incredible job of bringing many different levels to the character likewise wilson does the same for jeff in the sense that he is never completely a villian or a victim there is so much complexity to both characters and both actors do an amazing job of bringing all those different facets together in their respective roles the cinematography is awesome as well david slade who more recently did 30 days of night is characteristic for using this sort of jerky camera effect to give the sequences a sort of nightmarish surrealism the whole thing almost feels like a frightening dream and entirely taking place between two characters in a small setting it is all the more nightmarish this is definitely not an easy film to watch nor is it recommended to the faint of heart but it is a brilliant examination of the dark side of human nature whether you love it hate it it will definitely stay with you long after it's over\n",
      "1 - Positive\n",
      "True class : 1\n",
      "----------------------------------\n",
      "love this movie and was happy to see it on dvd few extras but just having the movie is worth the purchase price\n",
      "1 - Positive\n",
      "True class : 1\n",
      "----------------------------------\n",
      "amazon emailed me about last of the mohicans coming out on blu-ray i was ecstatic i love the movie and i am also gradually building up my blu-ray library since purchasing a blu-ray player last spring however the night it got mailed to my house i decided to watch it with my roommates and was sorely disappointed there were no scratches on the disc yet the image would become pixelated and entirely unwatchable at random parts of the film i thought it was my blu-ray player but i checked 8 different blu-rays and another 8 regular dvds and i never encountered the problem with them once i popped lotm back in however the pixelation returned by all means get the movie but maybe not this blu-ray unless my copy was an isolated incident in which case amazon please send me a working copy\n",
      "1 - Positive\n",
      "True class : 0\n",
      "----------------------------------\n",
      "director and writer francois ozon has created a moody and compelling film in &quotswimming pool&quot charlotte rampling stars as sarah morton a prim and conventional english mystery writer who goes to the south of france in search of inspiration there she encounters the other two main characters an old swimming pool and her publisher's sensuous french daughter julie ludivine sagnier sarah's pastoral serenity is soon disrupted as she becomes involved in the girl's unconventional and mysterious life i loved this movie it has a leisurely pace and there is little in the way of action and yet i found it mesmerizing the hypnotic intimacy we experience as we watch sarah write her new book is utterly compelling there is an vague feeling of unease and fear from the moment sarah arrives in france while all is outwardly calm and controlled events gradually build to a thrilling climax and beyond that an ending that makes the viewer reevaluate the entire movie the excellent musical score matches the enigmatic mood of the film charlotte rampling is perfect as the proper and cranky old maid who lets her hair down in a big way once she is under the spell of the luscious provence countryside ludivine sagnier seen recently as the delightful tinkerbell in peter pan is well-cast as the in-your-face amoral young stranger who changes sarah's life i think this is mainly a chick-flick although there is ample nudity to keep the guys watching too if you like quiet atmospheric movies that make you experience the characters' emotions and really think about what you've seen you'll enjoy &quotswimming pool&quot\n",
      "1 - Positive\n",
      "True class : 1\n",
      "----------------------------------\n",
      "the heat of the night won the oscar for best picture of 1967 i was a freshman in college that year and all the talk was about bonnie and clyde a great film the graduate was doing the art-house circuit and wasn't widely seen at the time guess who's coming to dinner was at the time considered ostentatious a rich black man marrying the daughter of a rich white couplehow shocking the fifth nominee that year was rex harrison's doctor dolittle but i don't want to talk about that i find that 25 years later i pull out in the heat of the night to get my kicks from brilliant film-making as well as good suspense and fine acting and direction this was norman jewison's first nomination for direction and not his last some say he lost it to mike nichols for the graduate because nichols probably should've won for his debut film effort virginia woolfmaybe some say rod steiger won his acting oscar because he lost in '65 for the pawnbroker i doubt it in my humble opinion this was steiger's penultimate role a man who is so sure of himself yet is taken down a peg by someone better he will never show his insecurity though you know it's there i also believe after watching this often that steiger's gillespie is not racist merely dealing with a racist environment it's mentioned that he's the new sheriff but it never says where he came from this is good because steiger starts from scratch builds a compelling character shows a bit of lack-of-control and it makes him nervous an wonderfully vulnerable his mind is usually open virgil teaches him hence whatever happens later can only be for his benefit great characters poitier was in 3 good films in 1967 this one guess who's coming to dinner to sir with love i'm sure that when nomination time came his votes were divided for this reason alone i think he would've won the performances of lee grant quentin dean and scott wilson he was in in cold blood that year were stellar the great old gospel singer jester hairston also had a small role he dubbed the singing for poitier's oscar winning role in lilies of the field amen interesting stuff sterling silliphant's screenplay won the oscar hands-down a riveting narrative of a complicated book the greatest thing about steiger's performance is that you know nothing about him or his background when the film begins or even when it's over what you know is that he's stuck in a place he doesn't like and no one likes him there are suggested gay overtones especially when he's in his home and he and virgil talk about loneliness it's quite profound when he doesn't get the answer he wants there's also the great beah richards in a small cameo as mama kaleba a sweet but nonetheless reprehensible character she was nominated that year for guess who's coming to dinner as poitier's wonderfully heart-broken mother a fine performance yes 1967 was a great year the graduate broke a few barriers guess who's coming to dinner broke some and certainly bonnie & clyde made bad guys look good don't forget richard brooks' in cold blooda great year but i still think in the heat of the night is the film i prefer to watch\n",
      "1 - Positive\n",
      "True class : 1\n",
      "----------------------------------\n",
      "movie great film having the ability to view this film from anywhere that i can access to my amazon collection is tops just allow me to watch my amazon collection from my nexus 7 and it'll be perfect\n",
      "1 - Positive\n",
      "True class : 1\n",
      "----------------------------------\n",
      "wellwe get to learn who that mystrious woman from vash's past is we also learn a little about his past and about the planet this series takes place on i hope in the next 2 dvds we learn about the scars and the implants although vash gets a new set of clothes but i like the old set i hope he gets them back i am glad this one was not has bloody and have the bad language that the 5th one had anybody know about that cat what's up with the cat i hope you will enjoy this dvd\n",
      "1 - Positive\n",
      "True class : 1\n",
      "----------------------------------\n",
      "help to get correct item i will have no problem ever ordering from this person again they made it do easy for someone not to computer savvy to use thanks so much\n",
      "1 - Positive\n",
      "True class : 1\n",
      "----------------------------------\n",
      "thought matt dillon was great in this film and it was well produced and the parts with burroughs were classicevryone who likes this type of fringe flick should own this\n",
      "1 - Positive\n",
      "True class : 1\n",
      "----------------------------------\n",
      "is my favorite movie ever there's never been another film that i could just watch over and over like this one john goodman should have won or at least been nominated for best supporting actor i have a feeling that after the more &quotaccessible&quot fargo the academy simply didn't get this one phillip seymore hoffman brandt is a genious character actor and this is one of his greatest rolesdidn't like seein' donnie go\n",
      "1 - Positive\n",
      "True class : 1\n",
      "----------------------------------\n",
      "can't add anything about this film that wasn't already said by the more in-depth reviews but i will say that for a b movie it is enormous fun kurt russell who was a child star for disney is perfect for this role of snake plissken and i can't imagine many other actors who would or could play this role the way he did he is both very convincing yet he also appears to know that this film is just pure fun too john carpenter's career has been very up and down one film is dead on perfect only to be followed by a complete flop the great thing about him is when he's on as a director writer and musician he is very on some other classics of his you might want to check out are the original the fog and the thing again with a terrific performance by kurt russell and a storyline much closer to the novel both are truly creepy films with excellent musical scores they both still stand up well although both did relatively poorly at the box office in their time they later became cult classics on vhs and dvd fyi carpenter also did a few wonderful non-horror films worth seeing he directed music of the heart which really earned him much deserved recognition and another oscar nomination for his lead actress meryl streep look for a surprisingly pleasing performance by gloria estafan in it as well it's a great story about trying to teach music to inner city elementary kids he also directed the original assault on precinct 13 a suspenseful well-executed cop film and wonderful sci-fi film called starman which was kind of an et for adults jeff bridges' performance is flawless and earned him an oscar nomination\n",
      "1 - Positive\n",
      "True class : 1\n",
      "----------------------------------\n",
      "movie recommend to everybody who likes thrillers i am pleased with the order i placed and price i paid $650 the disc came from amazon quickly good packaging\n",
      "1 - Positive\n",
      "True class : 1\n",
      "----------------------------------\n",
      "film by patty jenkinsroger ebert listed monster as the best film of all of 2003 charlize theron won the academy award for best actress for her portrayal of serial killer aileen wuornos for months before the oscars the talk had been about how amazing theron's performance was and how not only was it the best performance of the year it was one of the best performances in years this is a lot of high praise that raised my expectations on exactly what it was that i was going to see in monstermonster is based on the true story of aileen wuornos aileen lived as a prostitute in florida and became a serial murderer killing her prospective clients as the film opens aileen is sitting under an overpass and is reflecting back on past events specifically her meeting of selby christina ricci after meeting selby in a bar selby quickly becomes aileen's best and only friend and also her lover they are both very lonely and needy people for the love of selby aileen wants to clean up her life quit hooking and find a real job so she can support selby unfortunately for aileen she is unable to find a job because she has no work experience no resume and a huge chip on her shoulder that prevents anyone in a position to help to even want to help her selby is demanding telling aileen that she needs to start hooking again because they don't have any money she is hungry and this is one thing that aileen can do to support her when she is raped by one of her clients aileen finally snaps and kills him she tells selby that this was a one time thing but after this first murder she starts killing and robbing her other clients it is at this point where we start to see aileen crack under the pressure of what her life has become she feels that from day one she never stood a chance she was sexually abused as a child and by age 13 was pregnant and a prostitute this is her life and she has no opportunity to improve her life her experience trying to find a legitimate job is proof of this monster is the story of aileen wuornos and it is brutal and unflinching it is impossible to separate the performance of charlize theron from the rest of the movie monster is built on the raw power and pain of theron's transformation into aileen wuornos this transformation was both physical and emotional charlize theron is a strikingly beautiful woman and early in her career the roles she became known for were little more than the beautiful wifegirlfriendwoman legend of bagger vance the devil's advocate the cider house rules monster required a physical change in the appearance of theron's face and the make-up helped change the beautiful theron into the ugly wuornos the other part of the transformation is that wuornos was a tormented pained and angry woman and this required theron to not simply be a woman acting but rather to become aileen wuornos she succeeds during the first half of the movie i could not figure out why theron had won the academy award for best actress she had become aileen but the performance was nothing terribly impressive for the first fifty minutes but when selby confronts aileen to return to being a prostitute that scene nailed it for me and brought theron's performance to an entirely new level the raw emotion theron conveyed carried the movie the performance became more emotional angry vulnerable fearful and edgy and at no point did i think that this was theron acting i saw aileen wuornos the movie itself without charlize theron did not feel to me that it was telling a story that could not have been told on a made for cable because of the content movie but the movie is not so much about the plot and about the story but rather about the performance and transformation of charlize theron into aileen wuornos the performance makes the viewer capable of feeling pity for aileen without excusing her actions i don't feel that there is any question that theron deserved the oscar for monster -joe sherry\n",
      "1 - Positive\n",
      "True class : 1\n",
      "----------------------------------\n",
      "rented this movie-knowing it would be cheesy boy were we way off this is the worst movie *ever* made and saying that know that i am a huuuge deborah debbie gibson fan and even still i couldn't stand this movie no matter how many drinks i had i'm so glad i didn't buy it but mad that i spent 399 st blockbuster renting it i would rather have my hands slammed in a car door then be kneed in the groin and then have salt spilled in open wounds than to se this moive again no plot bad acting---even the shark had bad acting i'm ashamed to be a debbie gibon fan\n",
      "1 - Positive\n",
      "True class : 0\n",
      "----------------------------------\n",
      "movie is great with a real twist at the end if you're a christian you'll love this movie watch it very closely the end will make you think\n",
      "1 - Positive\n",
      "True class : 1\n",
      "----------------------------------\n",
      "up in the supposedly 'post-feminist' era i heard &quotstepford wife&quot thrown about in popculture reference to a severely represed woman without individual being this dour description almost turned me off of this delightful movie yet a college intervention convinced me to give the title another chance for the film wasn't actually celebrating such women offering a cautionary tale instead of how dreary and horrific such life actually was the men of stepford are supposedly happy with their robotic wives but how secure are they with themselves if they had to create virtual doormats furthermore what kind of homelife did this virtual hell create for the children who undoubtedly would have been traumatized by the ordeal my feminist self liked the movie precisely because the classic script exploited the tension between culture and politics suspesfully the camp factor delightfully high and the now dated appearance of many wardrobe ensembles adds to the overall sense of disorientation we know something is not quite right but cannot initally along with the main character decipher what it is untill revealled sure movie makers could have sat down planned and filmed a conventional inevitably stodgy doccumentary showing how things are ultimately better when each woman is allowed to fufill their own individual dreams but that would have not had the same appeal audiences at the 1975 premire and thereafter may have not realized they were participating in a feminist conciousness raiser themselvesthis film was intended for the audiences who would not neccessarily go down to the corner newstand and buy ms magazine attend the meetings of the local feminist group but nevertheless needed simmiliar information---and perhaps even more so than the other groups\n",
      "1 - Positive\n",
      "True class : 1\n",
      "----------------------------------\n",
      "really enjoyed watching this the case is well presented and i wonder will we ever know the truth production quality and seems well researched and very probable\n",
      "1 - Positive\n",
      "True class : 1\n",
      "----------------------------------\n",
      "grew up on the ritz brothers who unfortunately where often overshadowed by the other trio of brothers from the same era their comedy is classic slapstick and hilarious and the gorilla is one of their better movies\n",
      "1 - Positive\n",
      "True class : 1\n",
      "----------------------------------\n",
      "family and i absolutely love the signing time series my 3-year-old son is autistic and we tried everything that we could do to help him communicate with us after viewing signing time he was automatically imitating the signs it is wonderful to be able to communicate with my son and signing time has alot to do with it\n",
      "1 - Positive\n",
      "True class : 1\n",
      "----------------------------------\n",
      "two sisters played by emily browning and adrielle kebbel make this a great movie otherwise it would be another mediocre horror film catering to the pg13 crowd\n",
      "1 - Positive\n",
      "True class : 1\n",
      "----------------------------------\n",
      "acting makes this power of one samurai story really nice to watch stone-cold tadanobu asano makes an excellent warrior opposite apparently feeble takeshi kitano the bad guys the geishas the aunt the silly newphew all of them play a part in making the movie funny sad violent and capable of suspending our real world a good movie to spend time on\n",
      "1 - Positive\n",
      "True class : 0\n",
      "----------------------------------\n",
      "15 years old and i've been watching this movie sence i was about 6 we taped it off the disney channel - and our tape is seriosly falling apart becuase we've watched it so much this movie is halarious my sister and i can even quote this whole movie for those people complaining about its differances from the book who cares if you want it exactly like the book why watch it at all all movies differ from the books that they're based on though this one maybe totally differant its still good so why on earth would you complain about something so good even if its differant\n",
      "1 - Positive\n",
      "True class : 1\n",
      "----------------------------------\n",
      "me this film was an emotional rollercoaster as i was watching the movie i felt happiness lust love sadness anger emptiness and finally lonliness it didn't matter that it was two men those human emotions touch all - gay straight bi trans it's a movie that crossed boundries and i am so thankful for that did it change some people's perceptions of gays time will tell heath and jake both gave powerful performances not to mention they are quite easy on the eyes too you truly felt their attraction and love for each other and you wanted them to finally be able to stay together i was soooo sad at the end of the movie and when a movie touches me like that it remains with me long after it's over like i said it was an emotional rollercoaster - i'm glad i was along for the ride\n",
      "1 - Positive\n",
      "True class : 1\n",
      "----------------------------------\n",
      "a great zombie movie with a lot of flair and some transgender issues really fun and has a drinking game in the special features\n",
      "1 - Positive\n",
      "True class : 1\n",
      "----------------------------------\n",
      "not a terrible movie the special effects were great the acting was good the biggest problem the movie had was the storythey had a great story going on until the part where the father decided to walk to new york and save his son that's where everything went wrong there ois no way he would have made it through the storm and rescue his son they could have at least had his son die or something something different from other moviesthe special effects were obviously the greatest part of the movie the tornados the floods the snow the ice it all looks amazing on the screen that itself is worth your moneyanother thing that's good about this disaster movie is that it involved other countries in a way most disaster movies focus on the country it's filmed in but this one took the time to go to japan and places in europe and move down to mexicowhen the mexicans wouldn't let the americans into the country the americans should have just pulled out the military and taken over the country tell the mexicans to go to brazil it's partially their fault all this was happening they owe america so much moneymore than 33 trillion dollars but they won't let the americans into the country even though hundreds of mexicans illegaly cross the border every yeargood movie but could have had a better story\n",
      "1 - Positive\n",
      "True class : 1\n",
      "----------------------------------\n",
      "saw excerpts of this film at a lecture at the local medical school and couldn't stop thinking about the families of autistic kids now i've seen the whole film and found it fascinating to see the kids and their parents figure out how to accept and deal with autism i especially liked seeing the kids talk about their experience and how they see their lives good stuff\n",
      "1 - Positive\n",
      "True class : 1\n",
      "----------------------------------\n",
      "to say chevy chase is the best arrived safe and sound quick delivery\n",
      "1 - Positive\n",
      "True class : 1\n",
      "----------------------------------\n",
      "movie is definetly in my all time top 20 chris farley and davis spade have an amazing chemistry on set chris plays the loveable oaf where as david plays the evil yet fun guy we love to hate this movie is not only well written but well acted back when both guys were clean and really had there hearts in it non stop laughs in this very funny film suitable for the whole family check it out\n",
      "1 - Positive\n",
      "True class : 1\n",
      "----------------------------------\n",
      "more than 60 years he has been the most popular superhero of all time and now he's returned to movie screens in bryan singer's action packed and emotionally terrific triumph superman returns no question the best superman movie yet brandon routh is a recarnation of christopher reeve kevin spacey outdoes gene hackman as lex luthor and kate bosworth gives a terrific new approach to lois lane spetacular and fantastic a triumph one of the best summer movies no doubt a brilliantly riveting motion picture event that pays homage to the richard donner films terrific entertainment this is a must see event go look up at the movie screen superman returns and i hope he returns again i see an old man's sick joke\n",
      "1 - Positive\n",
      "True class : 1\n",
      "----------------------------------\n",
      "went to see lilo & stitch expecting a cutesy movie about a spunky hawaiian child and her alien pal it turned out to be a touching story about what it means to be family it takes the fanciful story of an alien coming to earth and uses it to discuss death in a family children acting out the struggle of low income families to stay together and love i sincerely hope disney continues to help children peek into other cultures in this way a child from the inner city of new york can identify with the messages in this movie while learning about an entirely different culture it is literally doing us a world of good i will definitely purchase this movie\n",
      "1 - Positive\n",
      "True class : 1\n",
      "----------------------------------\n",
      "two what a great season roseanne is an awesome actress and standup comedian my biggest problem is that it seems they throw these sets together with out making sure everything is right check the back of the box for disc 1 and 2 if you look at the discription for somebody stole my gal the synopsis should be under house of grown-ups and vice versa but another problem is they have the title of house of grown-ups wrong with &boo at the end i hope they dont make mistakes like this on season 3 but overall its a great show and the dvds are worth owning i suggest buying it now if you dont already have it\n",
      "1 - Positive\n",
      "True class : 1\n",
      "----------------------------------\n",
      "is my absolute favourite comedy of all time this is jim carreys masterpiece it is an old film and i own it but never tire of watching on a dull rainy day this film is a real pick up the hilarious scenes never fail to amuse me the fact that jim and jeff play two absolutely hapless idiots is what makes this film so great and you cannot help but love their characters\n",
      "1 - Positive\n",
      "True class : 1\n",
      "----------------------------------\n",
      "was really peeved at hollywood for taking so long to release spielberg's films on bluray a lot of them are still unreleased but digital restorations such as this make the wait almost worth it i've never seen a film this old be restored to such perfect clarity there is absolutely no grain or imperfections the sound quality is incredible if you want the best copy of jaws suck it up and get a bluray player already but seriously hollywood hurry up with the rest of spielberg's films\n",
      "1 - Positive\n",
      "True class : 1\n",
      "----------------------------------\n",
      "love this movie both my husband and i watched it when we were children and finally got to add it to our video library fun for all ages and even fun for our parrot who loves to bob her head up and down during the faster-beat songs\n",
      "1 - Positive\n",
      "True class : 1\n",
      "----------------------------------\n",
      "movie is an inpiring movie the moviehas great graphicss i liked the movie because this person got chaged because of a trip that wasn't thought out completely\n",
      "1 - Positive\n",
      "True class : 1\n",
      "----------------------------------\n",
      "into this one i was wondering if sam raimi would be able to top himself in the wake of his magnus opus spider-man 2 bluntly the answer is no but listen spider-man 3 is still very much worth dropping your hard-earned dollars for spidey 2 was a five star film this one rates as a four starrer and remains a quintessentially fun summer blockbuster picture the special effects are seamless cg venom and the sandman look great while cg spidey continues to astound admittedly i wasn't too impressed with how the goblin looked you really gotta hand it to sam raimi he knows how to handle epic superhero battles in various fabulous faceoffs spidey takes on the goblin the sandman and venom and each time our hero doesn't walk away without leaving a piece of himself on the floor even though we knew spidey was going to come out on top the fight scenes are credible and effective enough that he seems to be the underdog in each encounter i have absolutely no complaints with the spidey sequences spider-man 3 is again very well served with returning supporting actors jk simmons as j jonah jameson hilarious and the sexy elizabeth banks as betty brant more please sam raimi's buddy bruce campbell has a funny bit as a maitre d' mageina tovah as the landlord's daughter brightens up the room with her endearing if skeletal presence stan lee provides the obligatory cameo 'nuff said bryce dallas howard is essentially wasted as gwen stacy and rosemary harris is the usual boring fount of wisdom folks have already mentioned the overstacking of supervillains and the onerousness of the multiple plot stories i say phooey to that i was able to track every story arc with ease and keep up with every character in my opinion the villains are drawn with just enough depth and are given ample back stories by virtue of having been in every film installment harry osbourne comes off as the most layered antagonist james franco whom i normally dislike is very good here flint marko aka the sandman thomas haden church is immediately revealed to be a sympathetic character as the audience early on becomes privy to his core motivation eddie brock a puny and miscast topher grace however is just plain bad egg now there's a chance that newcomers to the spidey mythos might be befuddled with the abrupt introduction of the inky wriggly alien symbiote furthermore raimi then ignores the symbiote for lengthy film moments opting to leave it in residence at peter's cramped apartment to bide its time raimi is seemingly relying on the fans' knowledge of the alien costume to carry the day in lieu of actually sketching out some sort of a backstory not that there's much of a backstory on it in the comic book source secret wars anyone hands down spidey's my favorite superhero like a host of kids of the plethora of superheroes it's peter parker with whom i identified the most when i was a mere tadpole what makes him such a rootable underdog character is that stan lee and the ensuing comic book writers portrayed him as a sensitive teenyoung man with relatable dilemmas who ekes out small victories in life even as he trounces heinous superbaddies this film strays away from what makes him so likable the start of spider-man 3 finds a smug peter parker as spiderman has become the toast of new york his image is displayed on giant monitors and he is lauded in the newspapers excepting the bugle of course he even is presented with the key to the city this same scene also comes up with an act by peter as spidey which is blatantly disrespectful towards mary jane in fact the success of his spider-man persona blinds him to what's going on with mary jane whose career isn't flowing as smoothly understandibly it's not too long before mj begins to feel that peter isn't there for her suffice it to say while i loved every spidey sequence there are moments here where i genuinely did not like peter parker or put another way my dissatisfaction with peter is actually a nod towards kirsten dunst's very effective performance she's easily the best actor in this film and is so likable as mary jane that every thoughtless act by peter towards her exacerbated my resentment towards the dude i'm just not kosher with plotlines necessitating my hero to act like an obtuse jerk and since i'm crapping on the poor guy i must say the hairstyle he chooses when under the symbiote's influence is less than cool if it was supposed to emphasize his dark turn it failed miserably and the film in my eyes lost some credibility the audience including me burst out laughing every time that goofy downswept hairstyle popped up unintended laughter - it's not a good thing but i want to reiterate spider-man is my favorite superhero he got me thru junior high school middle school to you youngsters and high school i hated to criticize this movie but it would've been wrong to merely leave it as a glowing review and to ignore the warts yet with its flaws spider-man 3 is still very much a sensational movie and i do feel that ultimately its positives outweigh the negatives tobey maguire is the definitive peter parker no matter what i can't really envision anyone else in that role dunst as always is superlative and very lovely and oozes acting talent the complex story in spite of hitting a few false notes did keep me involved the action scenes are eyepopping nothing at all wrong with them sam raimi playfully continues to throw in insane gag bits and incidental low key humor for some reason i like the doorknob bit there's even several brief dance numbers and it's up to you to laugh and go with it or groan and grouse most hopefully will do the former\n",
      "1 - Positive\n",
      "True class : 1\n",
      "----------------------------------\n",
      "first saw this movie when it came out years ago i loved it then and i love it now if you are a fan of ballet dance and baryshnikov it is a must have the story follows the era of the russian cold war and the isolation its dancers went through it is a likely story for its time with dancers being controlled by a harsh government people wanting to escape the life of poverty and government control and finding freedom somehow to watch baryshnikov dance in anything is wonderful\n",
      "1 - Positive\n",
      "True class : 1\n",
      "----------------------------------\n",
      "this film is not issued in a blu ray special edition i will never know sucker punch is in blu ray but silver streak is not where is the justice or the taste in that\n",
      "1 - Positive\n",
      "True class : 1\n",
      "----------------------------------\n",
      "bought sports night for 2 reasons i was already a fan of the west wing and sports night had lots of positive press bad move the press is greatly overrated with the comedy torturously predictable it does try hard to blend drama with comedy and it covers some interesting topics and themes but ultimately the drama is sabotaged by the less than average comedy whether it is the setting or simply sorkin has improved but the final product doesn't compare with the west wing it now sits half watched under my tvdisappointed\n",
      "1 - Positive\n",
      "True class : 0\n",
      "----------------------------------\n",
      "love animal movies the first time i saw andre i just fell in love with it i am a grandmother and tried to show it to the grandchildren when they were over my house my grand daughter is 10 and finally i got her to sit and watch it she loved it so i got it for her for christmas she was so happy to get it that was my best gift\n",
      "1 - Positive\n",
      "True class : 1\n",
      "----------------------------------\n",
      "really love the songs on this soundtrack it was worth every penny be careful opening it though i almost broke the case\n",
      "1 - Positive\n",
      "True class : 1\n",
      "----------------------------------\n",
      "is a great movie i bought this movie at walmart for one buck years ago what a steal it's about a airline pilot who cheats on his wife and continue to do so until he is caught this is a very good movie if you see it don't pass by it buy it\n",
      "1 - Positive\n",
      "True class : 1\n",
      "----------------------------------\n",
      "ordered the original 1967 doctor dolittle starring rex harrison and when the movie arrived this afternoon the case was from the original movie but when i put in the movie to watch it i found that it was the newer doctor dolittle with eddie murphy\n",
      "1 - Positive\n",
      "True class : 0\n",
      "----------------------------------\n",
      "moive itself is your standard low-budget over the top action film it has the usual plot and the usual action i am not here to talk about the film but the bd quality the bd quality is very good and pristine - for a single layer bd with dts-hd ma i see the specs on amazon do not mention that dts-hd master audio is the reason to get this disc it is also the reason the price is so high the film is not bad but if you were looking for a true martial arts film or a believable action film this is not it jet li had great promise but most of his movies do not compare to his scenes in lethal weapon 4 it is something to watch but not something to keep\n",
      "1 - Positive\n",
      "True class : 0\n",
      "----------------------------------\n",
      "special effects were by far some of the best i have seen i didn't much care for the little boy's attitude toward his step mother or the world around him i also thought that the movie could have been somewhat longer to flesh out the plot better\n",
      "1 - Positive\n",
      "True class : 1\n",
      "----------------------------------\n",
      "raines is the younger brother of randall memphis raines a now retired professional car thief kip was contracted to steal 50 exotic cars all over los angeles and long beach but something went wrong now the man who hired him raymond calitri a russian mobster and stolen car broker wants his head when memphis learns of this he comes back to town to see if he can help his brother the only thing that will appease calitri is if the order is fulfilled memphis must deliver the cars to long beach harbor pier 14 by 800am friday morning on the button or watch calitri kill kip so memphis has to assemble his old crew and do the job in a few days meanwhile a cop who hounded him upon learning of his return is keeping an close eye on him can the team pull this assignment off and deliver the cars in time will kip finally realize that car boosting is dangerous and can memphis escape the cops\n",
      "1 - Positive\n",
      "True class : 1\n",
      "----------------------------------\n",
      "i have been watching some movies that were big in the year i was born1959 this one is definitely in the top 10 a story of redemption betrayalanger and oh yesa chariot race charlton heston was first rate in this classic william wyler movie 212 minutes of classic cinema after 50 years ben hur has stood as a monument to great movie making bravo\n",
      "1 - Positive\n",
      "True class : 1\n",
      "----------------------------------\n",
      "subtle but made me feel the way rocky i made me feel i thought the actors were great and the action was just as good\n",
      "1 - Positive\n",
      "True class : 1\n",
      "----------------------------------\n",
      "the story is great but the morons who decided to jerk the camera around should just get out of the biz it didn't work it won't work if they try it again i won't rent it i won't buy it if someone gives it to me i'll use the dvd as a frisbee or a coaster\n",
      "1 - Positive\n",
      "True class : 0\n",
      "----------------------------------\n",
      "would have liked to see this be more up to date and a bit more comprehensive the dvd case lists dj krush whom i am a fan of as one of the dj's featured but it only very quickly just shows him and mentions his name which i thought was a bit cheap the piece on dj shadow was interesting i like the different aspects the movie covers technical social history as well as a taste of some of the personalities dvd extras are interesting particularly some of the instructional how-to stuff almost makes me want to get some equipment and try it\n",
      "1 - Positive\n",
      "True class : 1\n",
      "----------------------------------\n",
      "of all let me say that i am a huge harlan coben fan love love love his myron bolitar series i was hooked after reading the woods and have read every book he's written if i had not already read tell no one i would've turned the movie off i guess it's just not my cup of tea i kindly gave three stars because of coben's talent for writing the movie was a little too hard to follow in my opinion the book is excellentlove all the twists in the plot and ending read the bookfind harlan coben in the movie\n",
      "1 - Positive\n",
      "True class : 0\n",
      "----------------------------------\n",
      "is an at times fun film with the likeable jason segel and ed helms in starring roles it includes susan sarandon in the role of their mother  and would you believe even rae dawn chong makes an appearance when i saw the cast line-up i figured this was going to be a sure winner segel and helms are usually reliable for a lot of laughs and i'm a fan of saradon as well well it seemed like a sure thing  but in many ways it wasn't first the other reviewers who mention the overuse of the hand cam effect are correct it is frequent and distracting it started to feel like a bad tmz episode after a while it was also completely unnecessary and hard to imagine why the filmmakers thought it would be a good idea perhaps they were trying to inject an ed helms the office sort of feel  if so it did not work in my opinion i won't say much about the storyline except that it deals with everyday issues like love life and work there are a few genuinely funny moments though probably not enough considering the overall capabilities of this cast i also wished saradon's role would have been more significant or at least better incorporated into the main storyline still i think the film is worth watching if you have nothing else to do some lazy saturday afternoon  i would probably give it three and a half stars if half stars were possible\n",
      "1 - Positive\n",
      "True class : 0\n",
      "----------------------------------\n",
      "presentation of the classic james whale 1931 film &quotfrankenstein&quot is the most perfect representation of this fine film even beating out the nearly perfect laser disk presentation of several years back the documentary on the making of frankenstein by david skal master horror historian is worth the price of the dvd alone not only is the movie represented with crystal clarity but the art gallery and commentary add to this great product a must have for film fans and monster buffs\n",
      "1 - Positive\n",
      "True class : 1\n"
     ]
    }
   ],
   "source": [
    "for data in test_dataset:\n",
    "    choosen_class = classify(data[1])\n",
    "    print(\"----------------------------------\")\n",
    "    print(' '.join(data[1]))\n",
    "    if (choosen_class==1) :\n",
    "        print(choosen_class,\"- Positive\")\n",
    "    else :\n",
    "        print(choosen_class,\"- Negative\")\n",
    "    print(\"True class :\",data[0])\n",
    "    "
   ]
  },
  {
   "cell_type": "code",
   "execution_count": 20,
   "metadata": {},
   "outputs": [
    {
     "name": "stdout",
     "output_type": "stream",
     "text": [
      "Test: 21  error over  100  data\n"
     ]
    }
   ],
   "source": [
    "error = 0\n",
    "for data in test_dataset:\n",
    "    choosen_class = classify(data[1])\n",
    "    if (int(choosen_class) != int(data[0])):\n",
    "        error +=1\n",
    "print (\"Test:\" ,error,\" error over \",len(test_dataset),\" data\")"
   ]
  },
  {
   "cell_type": "code",
   "execution_count": 21,
   "metadata": {},
   "outputs": [
    {
     "name": "stdout",
     "output_type": "stream",
     "text": [
      "Training: 42  error over  200  data\n"
     ]
    }
   ],
   "source": [
    "error = 0\n",
    "for data in training_set:\n",
    "    choosen_class = classify(data[1])\n",
    "    if (int(choosen_class) != int(data[0])):\n",
    "        error +=1\n",
    "print (\"Training:\",error,\" error over \",len(training_set),\" data\")"
   ]
  },
  {
   "cell_type": "code",
   "execution_count": 37,
   "metadata": {},
   "outputs": [
    {
     "ename": "FileNotFoundError",
     "evalue": "[Errno 2] No such file or directory: 'test_dataset.txt'",
     "output_type": "error",
     "traceback": [
      "\u001b[0;31m---------------------------------------------------------------------------\u001b[0m",
      "\u001b[0;31mFileNotFoundError\u001b[0m                         Traceback (most recent call last)",
      "\u001b[0;32m<ipython-input-37-05e22ae1374b>\u001b[0m in \u001b[0;36m<module>\u001b[0;34m()\u001b[0m\n\u001b[1;32m      1\u001b[0m \u001b[0;31m#Booking dataset\u001b[0m\u001b[0;34m\u001b[0m\u001b[0;34m\u001b[0m\u001b[0m\n\u001b[0;32m----> 2\u001b[0;31m \u001b[0mext_file\u001b[0m \u001b[0;34m=\u001b[0m \u001b[0mopen\u001b[0m\u001b[0;34m(\u001b[0m\u001b[0;34m\"test_dataset.txt\"\u001b[0m\u001b[0;34m,\u001b[0m \u001b[0;34m\"r\"\u001b[0m\u001b[0;34m)\u001b[0m\u001b[0;34m\u001b[0m\u001b[0m\n\u001b[0m\u001b[1;32m      3\u001b[0m \u001b[0mlines\u001b[0m \u001b[0;34m=\u001b[0m \u001b[0mtext_file\u001b[0m\u001b[0;34m.\u001b[0m\u001b[0mread\u001b[0m\u001b[0;34m(\u001b[0m\u001b[0;34m)\u001b[0m\u001b[0;34m.\u001b[0m\u001b[0msplitlines\u001b[0m\u001b[0;34m(\u001b[0m\u001b[0;34m)\u001b[0m\u001b[0;34m\u001b[0m\u001b[0m\n\u001b[1;32m      4\u001b[0m \u001b[0mtest_dataset\u001b[0m \u001b[0;34m=\u001b[0m \u001b[0;34m[\u001b[0m\u001b[0;34m]\u001b[0m\u001b[0;34m;\u001b[0m\u001b[0;34m\u001b[0m\u001b[0m\n\u001b[1;32m      5\u001b[0m \u001b[0;32mfor\u001b[0m \u001b[0mline\u001b[0m \u001b[0;32min\u001b[0m \u001b[0mlines\u001b[0m \u001b[0;34m:\u001b[0m\u001b[0;34m\u001b[0m\u001b[0m\n",
      "\u001b[0;31mFileNotFoundError\u001b[0m: [Errno 2] No such file or directory: 'test_dataset.txt'"
     ]
    }
   ],
   "source": [
    "#Booking dataset\n",
    "ext_file = open(\"test_dataset.txt\", \"r\")\n",
    "lines = text_file.read().splitlines()\n",
    "test_dataset = []; \n",
    "for line in lines :\n",
    "    test_dataset.append(line.split())\n",
    "text_file.close()\n",
    "print(test_dataset[0])"
   ]
  }
 ],
 "metadata": {
  "kernelspec": {
   "display_name": "Python 3",
   "language": "python",
   "name": "python3"
  },
  "language_info": {
   "codemirror_mode": {
    "name": "ipython",
    "version": 3
   },
   "file_extension": ".py",
   "mimetype": "text/x-python",
   "name": "python",
   "nbconvert_exporter": "python",
   "pygments_lexer": "ipython3",
   "version": "3.6.3"
  }
 },
 "nbformat": 4,
 "nbformat_minor": 2
}
